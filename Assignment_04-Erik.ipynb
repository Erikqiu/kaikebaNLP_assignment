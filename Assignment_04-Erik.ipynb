{
 "cells": [
  {
   "cell_type": "markdown",
   "metadata": {},
   "source": [
    "# Assignment 4"
   ]
  },
  {
   "cell_type": "markdown",
   "metadata": {},
   "source": [
    "### 1. 复习上课内容以及复现课程代码"
   ]
  },
  {
   "cell_type": "markdown",
   "metadata": {},
   "source": [
    "在本部分，你需要复习上课内容和课程代码后，自己复现课程代码。"
   ]
  },
  {
   "cell_type": "code",
   "execution_count": 127,
   "metadata": {},
   "outputs": [],
   "source": [
    "import numpy as np\n",
    "import icecream as ic"
   ]
  },
  {
   "cell_type": "code",
   "execution_count": 128,
   "metadata": {},
   "outputs": [],
   "source": [
    "\"\"\"************* 所有图节点的父类 *************\"\"\"\n",
    "class Node:\n",
    "\n",
    "    def __init__(self, inputs=[]):\n",
    "        self.inputs = inputs\n",
    "        self.outputs = []\n",
    "        # 每个节点都是其输入节点的输出节点\n",
    "        for n in self.inputs:\n",
    "            n.outputs.append(self)\n",
    "    \n",
    "        self.value = None\n",
    "        \n",
    "        self.gradients = {}\n",
    "        # key为节点，value为梯度\n",
    "        \n",
    "    def forward(self):\n",
    "        #前向传播函数 继承该类的其他类会覆写该函数\n",
    "        '''\n",
    "        Forward propagation. \n",
    "        Compute the output value vased on 'inbound_nodes' and store the \n",
    "        result in self.value\n",
    "        '''\n",
    "\n",
    "        raise NotImplemented\n",
    "    \n",
    "    def backward(self):\n",
    "        #反向传播函数，继承该类的其他类会覆写该函数\n",
    "\n",
    "        raise NotImplemented\n",
    "        \n",
    "\"\"\"************* 输入 *************\"\"\"\n",
    "class Input(Node):\n",
    "    \n",
    "    def __init__(self):\n",
    "        Node.__init__(self)\n",
    "\n",
    "    def forward(self, value=None):\n",
    "        #前向传播函数 \n",
    "\n",
    "        if value is not None:\n",
    "            self.value = value\n",
    "            print(self.value)\n",
    "            \n",
    "    def backward(self):\n",
    "        #反向传播函数\n",
    "        \n",
    "        self.gradients = {self:0} # 初始化梯度为0\n",
    "        \n",
    "        for n in self.outputs:\n",
    "            #计算该节点的输出节点对该节点的梯度\n",
    "            grad_cost = n.gradients[self]\n",
    "            self.gradients[self] = grad_cost*1\n",
    "        \n",
    "\"\"\"************* 添加 *************\"\"\"\n",
    "class Add(Node):\n",
    "    # 似乎没有用到这个类\n",
    "    def __init__(self, *nodes):\n",
    "        Node.__init__(self, nodes)\n",
    "        \n",
    "    def forward(self):\n",
    "        self.value = sum(map(lambda n:n.value, self.inputs))\n",
    "        \n",
    "\"\"\"************* 全连接网络层 *************\"\"\"\n",
    "class Linear(Node):\n",
    "\n",
    "    \n",
    "    def __init__(self, nodes, weights, bias):\n",
    "        Node.__init__(self, [nodes, weights, bias])\n",
    "        \n",
    "    def forward(self):\n",
    "        #前向传播计算 y= w*x + b\n",
    "        \n",
    "        inputs = self.inputs[0].value\n",
    "        weights = self.inputs[1].value\n",
    "        bias = self.inputs[2].value\n",
    "        \n",
    "        self.value = np.dot(inputs, weights) + bias\n",
    "        \n",
    "    def backward(self):\n",
    "        #反向传播计算\n",
    "        self.gradients = {n: np.zeros_like(n.value) for n in self.inputs}\n",
    "        \n",
    "        for n in self.outputs:\n",
    "            \n",
    "            grad_cost = n.gradients[self]\n",
    "            \n",
    "            #以下分别计算对inputs， weights, bias的梯度\n",
    "            self.gradients[self.inputs[0]] = np.dot(grad_cost,self.inputs[1].value.T,)\n",
    "            self.gradients[self.inputs[1]] = np.dot(self.inputs[0].value.T,grad_cost)\n",
    "            self.gradients[self.inputs[2]] = np.sum(grad_cost,axis=0,keepdims=False)\n",
    "            \n",
    "    \n",
    "\"\"\"************* Sigmoid函数 *************\"\"\"   \n",
    "\n",
    "class Sigmoid(Node):\n",
    "    def __init__(self, node):\n",
    "        Node.__init__(self,[node])\n",
    "        \n",
    "    def _sigmoid(self, x):\n",
    "        return 1./(1+np.exp(-1 * x))\n",
    "    \n",
    "    def forward(self):\n",
    "        self.x = self.inputs[0].value\n",
    "        self.value = self._sigmoid(self.x)\n",
    "        \n",
    "    def backward(self):\n",
    "        \n",
    "        self.partial = self._sigmoid(self.x) * (1 - self._sigmoid(self.x))\n",
    "        \n",
    "        # y = 1 / (1 + e^-x)\n",
    "        # y' = 1 / (1 + e^-x) (1 - 1 / (1 + e^-x))\n",
    "        \n",
    "        self.gradients = {n: np.zeros_like(n.value) for n in self.inputs}\n",
    "        \n",
    "        for n in self.outputs:\n",
    "            grad_cost = n.gradients[self]\n",
    "            \n",
    "            self.gradients[self.inputs[0]] = grad_cost * self.partial\n",
    "        \n",
    "\"\"\"************* MSE均方差 *************\"\"\"  \n",
    "class MSE(Node):\n",
    "    def __init__(self, y, a):\n",
    "        Node.__init__(self, [y, a])\n",
    "        \n",
    "    def forward(self):\n",
    "        y = self.inputs[0].value.reshape(-1, 1)\n",
    "        a = self.inputs[1].value.reshape(-1, 1)\n",
    "        assert(y.shape == a.shape)\n",
    "        \n",
    "        self.m = self.inputs[0].value.shape[0]\n",
    "        self.diff = y - a\n",
    "        \n",
    "        self.value = np.mean(self.diff**2)\n",
    "        \n",
    "        \n",
    "    def backward(self):\n",
    "        #反向计算相应梯度\n",
    "        self.gradients[self.inputs[0]] = (2 / self.m) * self.diff\n",
    "        self.gradients[self.inputs[1]] = (-2 / self.m) * self.diff\n",
    "        \n",
    "        \n",
    "\"\"\"************* 执行所有节点的前向传播和反向传播 *************\"\"\"        \n",
    "\n",
    "def forward_and_backward(outputnode, graph):\n",
    "\n",
    "    for n in graph:\n",
    "        n.forward()\n",
    "\n",
    "    for n in  graph[::-1]:\n",
    "        n.backward()\n",
    "        \n",
    "\"\"\"************* 拓扑排序 *************\"\"\"      \n",
    "        \n",
    "def topological_sort(feed_dict):\n",
    "    \n",
    "    input_nodes = [n for n in feed_dict.keys()]\n",
    "\n",
    "    G = {}\n",
    "    nodes = [n for n in input_nodes]\n",
    "    while len(nodes) > 0:\n",
    "        n = nodes.pop(0)\n",
    "        if n not in G:\n",
    "            G[n] = {'in': set(), 'out': set()}\n",
    "        for m in n.outputs:\n",
    "            if m not in G:\n",
    "                G[m] = {'in': set(), 'out': set()}\n",
    "            G[n]['out'].add(m)\n",
    "            G[m]['in'].add(n)\n",
    "            nodes.append(m)\n",
    "\n",
    "    L = []\n",
    "    S = set(input_nodes)\n",
    "    while len(S) > 0:\n",
    "        n = S.pop()\n",
    "\n",
    "        if isinstance(n, Input):\n",
    "            n.value = feed_dict[n]\n",
    "            ## if n is Input Node, set n'value as \n",
    "            ## feed_dict[n]\n",
    "            ## else, n's value is caculate as its\n",
    "            ## inbounds\n",
    "\n",
    "        L.append(n)\n",
    "        for m in n.outputs:\n",
    "            G[n]['out'].remove(m)\n",
    "            G[m]['in'].remove(n)\n",
    "            # if no other incoming edges add to S\n",
    "            if len(G[m]['in']) == 0:\n",
    "                S.add(m)\n",
    "    return L\n",
    "        \n",
    "\"\"\"************* SGD随机梯度下降 *************\"\"\" \n",
    "\n",
    "def sgd_update(trainables, learn_rate = 1e-2):\n",
    "    for t in trainables:\n",
    "        t.value += -1 * learn_rate * t.gradients[t]"
   ]
  },
  {
   "cell_type": "code",
   "execution_count": 129,
   "metadata": {},
   "outputs": [
    {
     "name": "stdout",
     "output_type": "stream",
     "text": [
      "Total number of examples = 506\n"
     ]
    }
   ],
   "source": [
    "\"\"\"\n",
    "Check out the new network architecture and dataset!\n",
    "Notice that the weights and biases are\n",
    "generated randomly.\n",
    "No need to change anything, but feel free to tweak\n",
    "to test your network, play around with the epochs, batch size, etc!\n",
    "\"\"\"\n",
    "from sklearn.datasets import load_boston\n",
    "from sklearn.utils import shuffle, resample\n",
    "\n",
    "# Load data\n",
    "data = load_boston()\n",
    "X_ = data['data']\n",
    "y_ = data['target']\n",
    "\n",
    "# Normalization\n",
    "X_ = (X_ - np.mean(X_,axis=0)) / np.std(X_, axis=0)\n",
    "\n",
    "n_features = X_.shape[1]\n",
    "n_hidden = 10\n",
    "W1_ = np.random.randn(n_features, n_hidden)\n",
    "b1_ = np.zeros(n_hidden)\n",
    "W2_ = np.random.randn(n_hidden, 1)\n",
    "b2_ = np.zeros(1)\n",
    "\n",
    "# Neural Network\n",
    "X, y = Input(), Input()\n",
    "W1, b1 = Input(), Input()\n",
    "W2, b2 = Input(), Input()\n",
    "\n",
    "l1 = Linear(X, W1, b1)\n",
    "s1 = Sigmoid(l1)\n",
    "l2 = Linear(s1, W2, b2)\n",
    "cost = MSE(y,l2)\n",
    "\n",
    "feed_dict = {\n",
    "    X: X_,\n",
    "    y: y_,\n",
    "    W1: W1_,\n",
    "    b1: b1_,\n",
    "    W2: W2_,\n",
    "    b2: b2_\n",
    "}\n",
    "\n",
    "epochs = 5000\n",
    "m = X_.shape[0]\n",
    "batch_size = 16\n",
    "steps_per_epoch = m // batch_size\n",
    "\n",
    "graph = topological_sort(feed_dict)\n",
    "trainables = [W1, b1, W2, b2]\n",
    "\n",
    "print(\"Total number of examples = {}\".format(m))"
   ]
  },
  {
   "cell_type": "code",
   "execution_count": 4,
   "metadata": {},
   "outputs": [
    {
     "name": "stdout",
     "output_type": "stream",
     "text": [
      "Epoch: 1, Loss: 121.393\n",
      "Epoch: 101, Loss: 8.617\n",
      "Epoch: 201, Loss: 6.925\n",
      "Epoch: 301, Loss: 5.846\n",
      "Epoch: 401, Loss: 4.468\n",
      "Epoch: 501, Loss: 4.295\n",
      "Epoch: 601, Loss: 4.240\n",
      "Epoch: 701, Loss: 4.687\n",
      "Epoch: 801, Loss: 4.157\n",
      "Epoch: 901, Loss: 3.796\n",
      "Epoch: 1001, Loss: 4.557\n",
      "Epoch: 1101, Loss: 5.015\n",
      "Epoch: 1201, Loss: 4.253\n",
      "Epoch: 1301, Loss: 3.717\n",
      "Epoch: 1401, Loss: 3.752\n",
      "Epoch: 1501, Loss: 3.292\n",
      "Epoch: 1601, Loss: 3.493\n",
      "Epoch: 1701, Loss: 4.507\n",
      "Epoch: 1801, Loss: 3.823\n",
      "Epoch: 1901, Loss: 3.504\n",
      "Epoch: 2001, Loss: 3.407\n",
      "Epoch: 2101, Loss: 2.825\n",
      "Epoch: 2201, Loss: 3.888\n",
      "Epoch: 2301, Loss: 3.715\n",
      "Epoch: 2401, Loss: 3.659\n",
      "Epoch: 2501, Loss: 3.538\n",
      "Epoch: 2601, Loss: 3.207\n",
      "Epoch: 2701, Loss: 3.084\n",
      "Epoch: 2801, Loss: 3.050\n",
      "Epoch: 2901, Loss: 3.551\n",
      "Epoch: 3001, Loss: 3.686\n",
      "Epoch: 3101, Loss: 3.347\n",
      "Epoch: 3201, Loss: 3.541\n",
      "Epoch: 3301, Loss: 3.564\n",
      "Epoch: 3401, Loss: 3.254\n",
      "Epoch: 3501, Loss: 3.421\n",
      "Epoch: 3601, Loss: 3.131\n",
      "Epoch: 3701, Loss: 3.985\n",
      "Epoch: 3801, Loss: 3.337\n",
      "Epoch: 3901, Loss: 3.089\n",
      "Epoch: 4001, Loss: 2.996\n",
      "Epoch: 4101, Loss: 4.314\n",
      "Epoch: 4201, Loss: 3.790\n",
      "Epoch: 4301, Loss: 3.836\n",
      "Epoch: 4401, Loss: 3.079\n",
      "Epoch: 4501, Loss: 3.465\n",
      "Epoch: 4601, Loss: 3.561\n",
      "Epoch: 4701, Loss: 3.514\n",
      "Epoch: 4801, Loss: 2.905\n",
      "Epoch: 4901, Loss: 3.076\n"
     ]
    }
   ],
   "source": [
    "losses = []\n",
    "for i in range(epochs):\n",
    "    loss = 0\n",
    "    for j in range(steps_per_epoch):\n",
    "        # Step 1\n",
    "        # Randomly sample a batch of examples\n",
    "        X_batch, y_batch = resample(X_, y_, n_samples=batch_size)\n",
    "\n",
    "        # Reset value of X and y Inputs\n",
    "        X.value = X_batch\n",
    "        y.value = y_batch\n",
    "\n",
    "        # Step 2\n",
    "        _ = None\n",
    "        forward_and_backward(_, graph) # set output node not important.\n",
    "\n",
    "        # Step 3\n",
    "        rate = 1e-2\n",
    "    \n",
    "        sgd_update(trainables, rate)\n",
    "\n",
    "        loss += graph[-1].value\n",
    "    \n",
    "    if i % 100 == 0: \n",
    "        print(\"Epoch: {}, Loss: {:.3f}\".format(i+1, loss/steps_per_epoch))\n",
    "        losses.append(loss)"
   ]
  },
  {
   "cell_type": "markdown",
   "metadata": {},
   "source": [
    "### 2. 回答一下理论题目"
   ]
  },
  {
   "cell_type": "markdown",
   "metadata": {},
   "source": [
    "#### 1. What does a neuron compute?"
   ]
  },
  {
   "cell_type": "markdown",
   "metadata": {},
   "source": [
    "Ans:\n",
    "$$ z = w^Tx + b$$\n",
    "代表权重*输入特征+ 偏差\n",
    "$$ a = \\sigma (z)$$\n",
    "激活函数a可以是sigmoid函数、tanh函数、Relu函数、Leaky Relu函数等"
   ]
  },
  {
   "cell_type": "markdown",
   "metadata": {},
   "source": [
    "####  2. Why we use non-linear activation funcitons in neural networks?"
   ]
  },
  {
   "cell_type": "markdown",
   "metadata": {},
   "source": [
    "Ans:\n",
    "\n",
    "因为如果使用线性激活函数，多个隐藏层其实就可以用一个隐藏层代替，多个隐藏层就变得没有意义，深度也就没有意义了"
   ]
  },
  {
   "cell_type": "markdown",
   "metadata": {},
   "source": [
    "#### 3. What is the 'Logistic Loss' ?"
   ]
  },
  {
   "cell_type": "markdown",
   "metadata": {},
   "source": [
    "$$ Loss = -ylog\\hat y - (1-y)log(1 - \\hat y) $$"
   ]
  },
  {
   "cell_type": "markdown",
   "metadata": {},
   "source": [
    "#### 4. Assume that you are building a binary classifier for detecting if an image containing cats, which activation functions would you recommen using for the output layer ?\n",
    "\n",
    "A. ReLU    \n",
    "B. Leaky ReLU    \n",
    "C. sigmoid    \n",
    "D. tanh  "
   ]
  },
  {
   "cell_type": "markdown",
   "metadata": {},
   "source": [
    "Ans: C\n",
    "\n",
    "sigmoid 常用于二分类问题\n",
    "\n",
    "tanh 效果非常好，几乎适用于所有场合\n",
    "\n",
    "ReLu 最常用的默认函数，学习速度快\n",
    "\n",
    "Leaky ReLu 优化版的ReLu\n",
    "\n"
   ]
  },
  {
   "cell_type": "markdown",
   "metadata": {},
   "source": [
    "#### 5. Why we don't use zero initialization for all parameters ?"
   ]
  },
  {
   "cell_type": "markdown",
   "metadata": {},
   "source": [
    "如果所有参数初始化为0，会使神经网络产生对称破坏问题，也就是每一层向前传播的激活函数计算的结果是一样的，每一层反向传播计算的梯度也是一样的，所有的隐藏层都是对称的。无论迭代多少次，loss都不会得到改善。解决这个问题的方法就是随机初始化参数。"
   ]
  },
  {
   "cell_type": "markdown",
   "metadata": {},
   "source": [
    "#### 6. Can you implement the softmax function using python ? "
   ]
  },
  {
   "cell_type": "markdown",
   "metadata": {},
   "source": [
    "Ans:\n",
    "$$softmax = \\frac{e^{z_j}}{\\sum _j^n e^{z_j}}$$"
   ]
  },
  {
   "cell_type": "code",
   "execution_count": 14,
   "metadata": {},
   "outputs": [],
   "source": [
    "def softmax_func(Z):\n",
    "    return np.exp(Z) / np.sum(np.exp(Z))"
   ]
  },
  {
   "cell_type": "markdown",
   "metadata": {},
   "source": [
    "### 3.实践题"
   ]
  },
  {
   "cell_type": "markdown",
   "metadata": {},
   "source": [
    "#### In this practical part, you will build a simple digits recognizer to check if the digit in the image is larger than 5. This assignmnet will guide you step by step to finish your first small project in this course ."
   ]
  },
  {
   "cell_type": "markdown",
   "metadata": {},
   "source": [
    "#### 1 - Packages  \n",
    "sklearn is a famous package for machine learning.   \n",
    "matplotlib is a common package for vasualization."
   ]
  },
  {
   "cell_type": "code",
   "execution_count": 99,
   "metadata": {},
   "outputs": [],
   "source": [
    "from sklearn import datasets\n",
    "import matplotlib.pyplot as plt\n",
    "import seaborn as sns\n",
    "from sklearn.model_selection import train_test_split\n",
    "import copy\n",
    "%matplotlib inline"
   ]
  },
  {
   "cell_type": "markdown",
   "metadata": {},
   "source": [
    "#### 2 - Overvie of the dataset  \n",
    "    - a training set has m_train images labeled as 0 if the digit < 5 or 1 if the digit >= 5\n",
    "    - a test set contains m_test images labels as if the digit < 5 or 1 if the digit >= 5\n",
    "    - eah image if of shape (num_px, num_px ). Thus, each image is square(height=num_px and  width = num_px)"
   ]
  },
  {
   "cell_type": "code",
   "execution_count": 172,
   "metadata": {},
   "outputs": [],
   "source": [
    "# Loading the data \n",
    "digits = datasets.load_digits()"
   ]
  },
  {
   "cell_type": "code",
   "execution_count": 173,
   "metadata": {},
   "outputs": [
    {
     "data": {
      "image/png": "[encoded data removed]",
      "text/plain": [
       "<Figure size 432x288 with 10 Axes>"
      ]
     },
     "metadata": {},
     "output_type": "display_data"
    }
   ],
   "source": [
    "# Vilizating the data\n",
    "for i in range(1,11):\n",
    "    plt.subplot(2,5,i)\n",
    "    plt.imshow(digits.data[i-1].reshape([8,8]),cmap=plt.cm.gray_r)\n",
    "    plt.text(3,10,str(digits.target[i-1]))\n",
    "    plt.xticks([])\n",
    "    plt.yticks([])\n",
    "plt.show()"
   ]
  },
  {
   "cell_type": "code",
   "execution_count": 174,
   "metadata": {},
   "outputs": [],
   "source": [
    "# Split the data into training set and test set \n",
    "X_train, X_test, y_train, y_test = train_test_split(digits.data, digits.target, test_size=0.25)\n",
    "X_train = X_train/255\n",
    "X_test = X_test/255"
   ]
  },
  {
   "cell_type": "code",
   "execution_count": 175,
   "metadata": {},
   "outputs": [],
   "source": [
    "# reformulate the label. \n",
    "# If the digit is smaller than 5, the label is 0.\n",
    "# If the digit is larger than 5, the label is 1.\n",
    "\n",
    "y_train[y_train < 5 ] = 0\n",
    "y_train[y_train >= 5] = 1\n",
    "y_test[y_test < 5] = 0\n",
    "y_test[y_test >= 5] = 1"
   ]
  },
  {
   "cell_type": "code",
   "execution_count": 176,
   "metadata": {},
   "outputs": [
    {
     "name": "stdout",
     "output_type": "stream",
     "text": [
      "(1347, 64)\n",
      "(450, 64)\n",
      "(1347,)\n",
      "(450,)\n"
     ]
    }
   ],
   "source": [
    "print(X_train.shape)\n",
    "print(X_test.shape)\n",
    "print(y_train.shape)\n",
    "print(y_test.shape)"
   ]
  },
  {
   "cell_type": "markdown",
   "metadata": {},
   "source": [
    "#### 3- Architecture of the neural network"
   ]
  },
  {
   "cell_type": "markdown",
   "metadata": {},
   "source": [
    "![title](./networks.png)"
   ]
  },
  {
   "cell_type": "code",
   "execution_count": 177,
   "metadata": {},
   "outputs": [],
   "source": [
    "# !pwd"
   ]
  },
  {
   "cell_type": "markdown",
   "metadata": {},
   "source": [
    "##### Mathematical expression of the algorithm:"
   ]
  },
  {
   "cell_type": "markdown",
   "metadata": {},
   "source": [
    "For one example $x^{(i)}$:   \n",
    " $$ z^{(i)} = w^T * x^{(i)} +b $$   \n",
    " $$ y^{(i)} = a^{(i)} = sigmoid(z^{(i)})$$   \n",
    " $$L(a^{(i)},y^{(i)}) = -y^{(i)} log(a^{(i)})-(1-y^{(i)})log(1-a^{(i)})$$"
   ]
  },
  {
   "cell_type": "markdown",
   "metadata": {},
   "source": [
    "The total cost over all training examples:\n",
    "$$ J = \\frac{1}{m}\\sum_{i=1}^{m}L(a^{(i)},y^{(i)}) $$"
   ]
  },
  {
   "cell_type": "markdown",
   "metadata": {},
   "source": [
    "#### 4 - Building the algorithm"
   ]
  },
  {
   "cell_type": "markdown",
   "metadata": {},
   "source": [
    "##### 4.1- Activation function    \n",
    "###### Exercise:\n",
    "Finish the sigmoid funciton "
   ]
  },
  {
   "cell_type": "code",
   "execution_count": 178,
   "metadata": {},
   "outputs": [],
   "source": [
    "def sigmoid(z):\n",
    "    '''\n",
    "    Compute the sigmoid of z\n",
    "    Arguments: z -- a scalar or numpy array of any size.\n",
    "    \n",
    "    Return:\n",
    "    s -- sigmoid(z)\n",
    "    '''\n",
    "#     assert(len(z)!=0)\n",
    "    s = 1. / (1 + np.exp(-1 * z))\n",
    "    \n",
    "    return s"
   ]
  },
  {
   "cell_type": "code",
   "execution_count": 179,
   "metadata": {},
   "outputs": [
    {
     "name": "stdout",
     "output_type": "stream",
     "text": [
      "sigmoid([0,2]) = [0.5        0.88079708]\n"
     ]
    }
   ],
   "source": [
    "# Test your code \n",
    "# The result should be [0.5 0.88079708]\n",
    "print(\"sigmoid([0,2]) = \" + str(sigmoid(np.array([0,2]))))"
   ]
  },
  {
   "cell_type": "markdown",
   "metadata": {},
   "source": [
    "##### 4.1-Initializaing parameters\n",
    "###### Exercise:\n",
    "Finishe the initialize_parameters function below"
   ]
  },
  {
   "cell_type": "code",
   "execution_count": 180,
   "metadata": {},
   "outputs": [],
   "source": [
    "# Random innitialize the parameters\n",
    "\n",
    "def initialize_parameters(dim):\n",
    "    '''\n",
    "    Argument: dim -- size of the w vector\n",
    "    \n",
    "    Returns:\n",
    "    w -- initialized vector of shape (dim,1)\n",
    "    b -- initializaed scalar\n",
    "    '''\n",
    "    \n",
    "    w = np.random.randn(dim,1)\n",
    "    b = np.random.randint(1)\n",
    "    \n",
    "    assert(w.shape == (dim,1))\n",
    "    assert(isinstance(b,float) or isinstance(b,int))\n",
    "    \n",
    "    return w,b"
   ]
  },
  {
   "cell_type": "code",
   "execution_count": 181,
   "metadata": {},
   "outputs": [],
   "source": [
    "n_features = X_train.shape[1]\n",
    "W_, b_ = initialize_parameters(n_features)"
   ]
  },
  {
   "cell_type": "code",
   "execution_count": 182,
   "metadata": {},
   "outputs": [
    {
     "name": "stdout",
     "output_type": "stream",
     "text": [
      "W_ param：\n",
      "[[ 0.60972133]\n",
      " [ 1.59981409]\n",
      " [ 0.77354545]\n",
      " [-0.33123535]\n",
      " [-0.57528225]\n",
      " [-0.7654119 ]\n",
      " [ 0.69177604]\n",
      " [-0.25069194]\n",
      " [ 0.13311196]\n",
      " [ 1.34554745]]\n",
      "--------------------\n",
      "b_ param：0\n"
     ]
    }
   ],
   "source": [
    "print('W_ param：\\n{}'.format(W_[:10]))\n",
    "print('--'*10)\n",
    "print('b_ param：{}'.format(b_))"
   ]
  },
  {
   "cell_type": "markdown",
   "metadata": {},
   "source": [
    "#### 4.3-Forward and backward propagation"
   ]
  },
  {
   "cell_type": "markdown",
   "metadata": {},
   "source": [
    "###### Some mathematical expressions\n",
    "Forward Propagation:   \n",
    ". X    \n",
    ". A = $\\sigma(w^T*X+b) = (a^{(1)},a^{(2)},...,a^{(m)}$   \n",
    ". J = $-\\frac{1}{m} \\sum_{i=1}^{m}y^{(i)}log(a^{(i)})+(1-y^{(i)})log(1-a^{(i)})$       "
   ]
  },
  {
   "cell_type": "markdown",
   "metadata": {},
   "source": [
    "Some derivative: \n",
    "$$\\frac{\\partial{J}}{\\partial{w}} = \\frac{1}{m}X*(A-Y)^T$$   \n",
    "$$\\frac{\\partial{J}}{\\partial{b}} = \\frac{1}{m}\\sum_{i=1}^m(a^{(i)}-y^{(i)}) $$"
   ]
  },
  {
   "cell_type": "markdown",
   "metadata": {},
   "source": [
    "###### Exercise:\n",
    "Finish the function below:"
   ]
  },
  {
   "cell_type": "code",
   "execution_count": 187,
   "metadata": {},
   "outputs": [],
   "source": [
    "def propagate(w,b,X,Y):\n",
    "    '''\n",
    "    Implement the cost function and its gradient for the propagation\n",
    "    \n",
    "    Arguments:\n",
    "    w - weights\n",
    "    b - bias\n",
    "    X - data\n",
    "    Y - ground truth\n",
    "    '''\n",
    "    m = X.shape[1]\n",
    "    z = np.dot(X,w) + b\n",
    "    A = sigmoid(z)\n",
    "    Y_r = Y.reshape(-1,1) \n",
    "    \n",
    "    cost = -1 * np.sum(Y_r * np.log(A)+(1 - Y_r) * np.log(1-A)) / X.shape[0]\n",
    "\n",
    "    dw = np.dot(X.T,(A-Y_r)) / m\n",
    "    db = np.sum(A-Y_r) / m\n",
    "    assert(dw.shape == w.shape)\n",
    "    \n",
    "    assert(db.dtype == float)\n",
    "    cost = np.squeeze(cost)\n",
    "    assert(cost.shape == ())\n",
    "    \n",
    "    grads = {'dw':dw,\n",
    "             'db':db}\n",
    "    return grads, cost"
   ]
  },
  {
   "cell_type": "code",
   "execution_count": 188,
   "metadata": {},
   "outputs": [],
   "source": [
    "# propagate(W_,b_,X_train,y_train)"
   ]
  },
  {
   "cell_type": "markdown",
   "metadata": {},
   "source": [
    "##### 4.4 -Optimization"
   ]
  },
  {
   "cell_type": "markdown",
   "metadata": {},
   "source": [
    "###### Exercise:\n",
    "Minimizing the cost function using gradient descent.   \n",
    "$$\\theta = \\theta - \\alpha*d\\theta$$ where $\\alpha$ is the learning rate."
   ]
  },
  {
   "cell_type": "code",
   "execution_count": 189,
   "metadata": {},
   "outputs": [],
   "source": [
    "def optimize(w, b, X, Y, num_iterations, learning_rate, print_cost=False):\n",
    "    '''\n",
    "    This function optimize w and b by running a gradient descen algorithm\n",
    "    \n",
    "    Arguments:\n",
    "    w - weights\n",
    "    b - bias\n",
    "    X - data\n",
    "    Y - ground truth\n",
    "    num_iterations -- number of iterations of the optimization loop\n",
    "    learning_rate -- learning rate of the gradient descent update rule\n",
    "    print_cost -- True to print the loss every 100 steps\n",
    "    \n",
    "    Returns:\n",
    "    params - dictionary containing the weights w and bias b\n",
    "    grads -- dictionary containing the gradients of the weights and bias with respect to the cost function\n",
    "    costs -- list of all the costs computed during the optimization, this will be used to plot the learning curve.\n",
    "    \n",
    "    '''\n",
    "    \n",
    "    costs = []\n",
    "    best_w = copy.deepcopy(w)\n",
    "    best_b = copy.deepcopy(b)\n",
    "    for i in range(num_iterations):\n",
    "        \n",
    "        grads, cost = propagate(best_w,best_b,X,Y)\n",
    "        \n",
    "        dw = grads['dw']\n",
    "        db = grads['db']\n",
    "        \n",
    "        best_w += -1 * learning_rate * dw\n",
    "        best_b += -1 * learning_rate * db\n",
    "        \n",
    "        if i % 100 == 0:\n",
    "            costs.append(cost)\n",
    "        if print_cost and i % 100 == 0:\n",
    "            print (\"Cost after iteration %i: %f\" %(i, cost))\n",
    "    \n",
    "    params = {\"w\":best_w,\n",
    "              \"b\":best_b}\n",
    "    \n",
    "    grads = {\"dw\":dw,\n",
    "             \"db\":db}\n",
    "    \n",
    "    return params,grads,costs"
   ]
  },
  {
   "cell_type": "code",
   "execution_count": 191,
   "metadata": {},
   "outputs": [
    {
     "name": "stdout",
     "output_type": "stream",
     "text": [
      "Cost after iteration 0: 0.700397\n",
      "Cost after iteration 100: 0.633249\n",
      "Cost after iteration 200: 0.583000\n",
      "Cost after iteration 300: 0.544427\n",
      "Cost after iteration 400: 0.514051\n",
      "Cost after iteration 500: 0.489570\n",
      "Cost after iteration 600: 0.469434\n",
      "Cost after iteration 700: 0.452580\n",
      "Cost after iteration 800: 0.438259\n",
      "Cost after iteration 900: 0.425931\n",
      "Cost after iteration 1000: 0.415196\n",
      "Cost after iteration 1100: 0.405756\n",
      "Cost after iteration 1200: 0.397381\n",
      "Cost after iteration 1300: 0.389893\n",
      "Cost after iteration 1400: 0.383151\n",
      "Cost after iteration 1500: 0.377044\n",
      "Cost after iteration 1600: 0.371481\n",
      "Cost after iteration 1700: 0.366387\n",
      "Cost after iteration 1800: 0.361701\n",
      "Cost after iteration 1900: 0.357373\n",
      "Cost after iteration 2000: 0.353360\n",
      "Cost after iteration 2100: 0.349626\n",
      "Cost after iteration 2200: 0.346141\n",
      "Cost after iteration 2300: 0.342877\n",
      "Cost after iteration 2400: 0.339814\n",
      "Cost after iteration 2500: 0.336931\n",
      "Cost after iteration 2600: 0.334212\n",
      "Cost after iteration 2700: 0.331640\n",
      "Cost after iteration 2800: 0.329205\n",
      "Cost after iteration 2900: 0.326893\n",
      "Cost after iteration 3000: 0.324695\n",
      "Cost after iteration 3100: 0.322601\n",
      "Cost after iteration 3200: 0.320605\n",
      "Cost after iteration 3300: 0.318697\n",
      "Cost after iteration 3400: 0.316873\n",
      "Cost after iteration 3500: 0.315125\n",
      "Cost after iteration 3600: 0.313449\n",
      "Cost after iteration 3700: 0.311840\n",
      "Cost after iteration 3800: 0.310294\n",
      "Cost after iteration 3900: 0.308806\n",
      "Cost after iteration 4000: 0.307373\n",
      "Cost after iteration 4100: 0.305992\n",
      "Cost after iteration 4200: 0.304660\n",
      "Cost after iteration 4300: 0.303374\n",
      "Cost after iteration 4400: 0.302130\n",
      "Cost after iteration 4500: 0.300928\n",
      "Cost after iteration 4600: 0.299765\n",
      "Cost after iteration 4700: 0.298638\n",
      "Cost after iteration 4800: 0.297546\n",
      "Cost after iteration 4900: 0.296487\n",
      "Cost after iteration 5000: 0.295460\n",
      "Cost after iteration 5100: 0.294463\n",
      "Cost after iteration 5200: 0.293494\n",
      "Cost after iteration 5300: 0.292552\n",
      "Cost after iteration 5400: 0.291637\n",
      "Cost after iteration 5500: 0.290746\n",
      "Cost after iteration 5600: 0.289880\n",
      "Cost after iteration 5700: 0.289036\n",
      "Cost after iteration 5800: 0.288214\n",
      "Cost after iteration 5900: 0.287413\n",
      "Cost after iteration 6000: 0.286632\n",
      "Cost after iteration 6100: 0.285870\n",
      "Cost after iteration 6200: 0.285127\n",
      "Cost after iteration 6300: 0.284401\n",
      "Cost after iteration 6400: 0.283693\n",
      "Cost after iteration 6500: 0.283001\n",
      "Cost after iteration 6600: 0.282326\n",
      "Cost after iteration 6700: 0.281665\n",
      "Cost after iteration 6800: 0.281020\n",
      "Cost after iteration 6900: 0.280389\n",
      "Cost after iteration 7000: 0.279771\n",
      "Cost after iteration 7100: 0.279167\n",
      "Cost after iteration 7200: 0.278576\n",
      "Cost after iteration 7300: 0.277997\n",
      "Cost after iteration 7400: 0.277430\n",
      "Cost after iteration 7500: 0.276875\n",
      "Cost after iteration 7600: 0.276332\n",
      "Cost after iteration 7700: 0.275799\n",
      "Cost after iteration 7800: 0.275277\n",
      "Cost after iteration 7900: 0.274765\n",
      "Cost after iteration 8000: 0.274263\n",
      "Cost after iteration 8100: 0.273771\n",
      "Cost after iteration 8200: 0.273288\n",
      "Cost after iteration 8300: 0.272815\n",
      "Cost after iteration 8400: 0.272350\n",
      "Cost after iteration 8500: 0.271894\n",
      "Cost after iteration 8600: 0.271446\n",
      "Cost after iteration 8700: 0.271007\n",
      "Cost after iteration 8800: 0.270575\n",
      "Cost after iteration 8900: 0.270151\n",
      "Cost after iteration 9000: 0.269735\n",
      "Cost after iteration 9100: 0.269326\n",
      "Cost after iteration 9200: 0.268924\n",
      "Cost after iteration 9300: 0.268529\n",
      "Cost after iteration 9400: 0.268141\n",
      "Cost after iteration 9500: 0.267760\n",
      "Cost after iteration 9600: 0.267385\n",
      "Cost after iteration 9700: 0.267016\n",
      "Cost after iteration 9800: 0.266653\n",
      "Cost after iteration 9900: 0.266297\n",
      "Cost after iteration 10000: 0.265946\n",
      "Cost after iteration 10100: 0.265601\n",
      "Cost after iteration 10200: 0.265261\n",
      "Cost after iteration 10300: 0.264927\n",
      "Cost after iteration 10400: 0.264598\n",
      "Cost after iteration 10500: 0.264274\n",
      "Cost after iteration 10600: 0.263955\n",
      "Cost after iteration 10700: 0.263642\n",
      "Cost after iteration 10800: 0.263333\n",
      "Cost after iteration 10900: 0.263029\n",
      "Cost after iteration 11000: 0.262729\n",
      "Cost after iteration 11100: 0.262434\n",
      "Cost after iteration 11200: 0.262144\n",
      "Cost after iteration 11300: 0.261858\n",
      "Cost after iteration 11400: 0.261576\n",
      "Cost after iteration 11500: 0.261298\n",
      "Cost after iteration 11600: 0.261024\n",
      "Cost after iteration 11700: 0.260754\n",
      "Cost after iteration 11800: 0.260488\n",
      "Cost after iteration 11900: 0.260226\n",
      "Cost after iteration 12000: 0.259968\n",
      "Cost after iteration 12100: 0.259713\n",
      "Cost after iteration 12200: 0.259462\n",
      "Cost after iteration 12300: 0.259215\n",
      "Cost after iteration 12400: 0.258970\n",
      "Cost after iteration 12500: 0.258730\n",
      "Cost after iteration 12600: 0.258492\n",
      "Cost after iteration 12700: 0.258258\n",
      "Cost after iteration 12800: 0.258027\n",
      "Cost after iteration 12900: 0.257799\n",
      "Cost after iteration 13000: 0.257575\n",
      "Cost after iteration 13100: 0.257353\n",
      "Cost after iteration 13200: 0.257134\n",
      "Cost after iteration 13300: 0.256918\n",
      "Cost after iteration 13400: 0.256705\n",
      "Cost after iteration 13500: 0.256495\n",
      "Cost after iteration 13600: 0.256287\n",
      "Cost after iteration 13700: 0.256082\n",
      "Cost after iteration 13800: 0.255880\n",
      "Cost after iteration 13900: 0.255681\n",
      "Cost after iteration 14000: 0.255484\n",
      "Cost after iteration 14100: 0.255289\n",
      "Cost after iteration 14200: 0.255097\n",
      "Cost after iteration 14300: 0.254907\n",
      "Cost after iteration 14400: 0.254720\n",
      "Cost after iteration 14500: 0.254535\n",
      "Cost after iteration 14600: 0.254352\n",
      "Cost after iteration 14700: 0.254172\n",
      "Cost after iteration 14800: 0.253994\n",
      "Cost after iteration 14900: 0.253818\n",
      "Cost after iteration 15000: 0.253644\n",
      "Cost after iteration 15100: 0.253472\n",
      "Cost after iteration 15200: 0.253302\n",
      "Cost after iteration 15300: 0.253135\n",
      "Cost after iteration 15400: 0.252969\n",
      "Cost after iteration 15500: 0.252805\n",
      "Cost after iteration 15600: 0.252644\n",
      "Cost after iteration 15700: 0.252484\n",
      "Cost after iteration 15800: 0.252326\n",
      "Cost after iteration 15900: 0.252170\n",
      "Cost after iteration 16000: 0.252015\n",
      "Cost after iteration 16100: 0.251863\n",
      "Cost after iteration 16200: 0.251712\n",
      "Cost after iteration 16300: 0.251563\n",
      "Cost after iteration 16400: 0.251416\n",
      "Cost after iteration 16500: 0.251270\n",
      "Cost after iteration 16600: 0.251126\n",
      "Cost after iteration 16700: 0.250984\n",
      "Cost after iteration 16800: 0.250843\n",
      "Cost after iteration 16900: 0.250704\n",
      "Cost after iteration 17000: 0.250566\n",
      "Cost after iteration 17100: 0.250430\n",
      "Cost after iteration 17200: 0.250295\n",
      "Cost after iteration 17300: 0.250162\n",
      "Cost after iteration 17400: 0.250030\n",
      "Cost after iteration 17500: 0.249900\n",
      "Cost after iteration 17600: 0.249771\n",
      "Cost after iteration 17700: 0.249644\n",
      "Cost after iteration 17800: 0.249518\n",
      "Cost after iteration 17900: 0.249393\n",
      "Cost after iteration 18000: 0.249270\n",
      "Cost after iteration 18100: 0.249148\n",
      "Cost after iteration 18200: 0.249027\n",
      "Cost after iteration 18300: 0.248908\n",
      "Cost after iteration 18400: 0.248789\n",
      "Cost after iteration 18500: 0.248672\n",
      "Cost after iteration 18600: 0.248557\n",
      "Cost after iteration 18700: 0.248442\n",
      "Cost after iteration 18800: 0.248329\n",
      "Cost after iteration 18900: 0.248217\n",
      "Cost after iteration 19000: 0.248106\n",
      "Cost after iteration 19100: 0.247996\n",
      "Cost after iteration 19200: 0.247887\n",
      "Cost after iteration 19300: 0.247779\n",
      "Cost after iteration 19400: 0.247673\n",
      "Cost after iteration 19500: 0.247567\n",
      "Cost after iteration 19600: 0.247463\n",
      "Cost after iteration 19700: 0.247360\n",
      "Cost after iteration 19800: 0.247257\n",
      "Cost after iteration 19900: 0.247156\n",
      "Cost after iteration 20000: 0.247056\n",
      "Cost after iteration 20100: 0.246957\n",
      "Cost after iteration 20200: 0.246858\n",
      "Cost after iteration 20300: 0.246761\n",
      "Cost after iteration 20400: 0.246665\n",
      "Cost after iteration 20500: 0.246569\n",
      "Cost after iteration 20600: 0.246475\n",
      "Cost after iteration 20700: 0.246381\n",
      "Cost after iteration 20800: 0.246288\n",
      "Cost after iteration 20900: 0.246197\n",
      "Cost after iteration 21000: 0.246106\n",
      "Cost after iteration 21100: 0.246016\n",
      "Cost after iteration 21200: 0.245927\n",
      "Cost after iteration 21300: 0.245838\n",
      "Cost after iteration 21400: 0.245751\n",
      "Cost after iteration 21500: 0.245664\n",
      "Cost after iteration 21600: 0.245578\n",
      "Cost after iteration 21700: 0.245493\n",
      "Cost after iteration 21800: 0.245409\n",
      "Cost after iteration 21900: 0.245326\n",
      "Cost after iteration 22000: 0.245243\n",
      "Cost after iteration 22100: 0.245161\n",
      "Cost after iteration 22200: 0.245080\n",
      "Cost after iteration 22300: 0.244999\n",
      "Cost after iteration 22400: 0.244920\n",
      "Cost after iteration 22500: 0.244841\n",
      "Cost after iteration 22600: 0.244763\n",
      "Cost after iteration 22700: 0.244685\n",
      "Cost after iteration 22800: 0.244608\n",
      "Cost after iteration 22900: 0.244532\n",
      "Cost after iteration 23000: 0.244457\n",
      "Cost after iteration 23100: 0.244382\n",
      "Cost after iteration 23200: 0.244308\n",
      "Cost after iteration 23300: 0.244235\n",
      "Cost after iteration 23400: 0.244162\n",
      "Cost after iteration 23500: 0.244090\n",
      "Cost after iteration 23600: 0.244018\n",
      "Cost after iteration 23700: 0.243947\n",
      "Cost after iteration 23800: 0.243877\n",
      "Cost after iteration 23900: 0.243808\n",
      "Cost after iteration 24000: 0.243739\n",
      "Cost after iteration 24100: 0.243670\n",
      "Cost after iteration 24200: 0.243602\n",
      "Cost after iteration 24300: 0.243535\n",
      "Cost after iteration 24400: 0.243469\n",
      "Cost after iteration 24500: 0.243403\n",
      "Cost after iteration 24600: 0.243337\n",
      "Cost after iteration 24700: 0.243272\n",
      "Cost after iteration 24800: 0.243208\n",
      "Cost after iteration 24900: 0.243144\n",
      "Cost after iteration 25000: 0.243081\n",
      "Cost after iteration 25100: 0.243018\n",
      "Cost after iteration 25200: 0.242956\n",
      "Cost after iteration 25300: 0.242894\n",
      "Cost after iteration 25400: 0.242833\n",
      "Cost after iteration 25500: 0.242772\n",
      "Cost after iteration 25600: 0.242712\n",
      "Cost after iteration 25700: 0.242653\n",
      "Cost after iteration 25800: 0.242593\n",
      "Cost after iteration 25900: 0.242535\n",
      "Cost after iteration 26000: 0.242477\n",
      "Cost after iteration 26100: 0.242419\n",
      "Cost after iteration 26200: 0.242362\n",
      "Cost after iteration 26300: 0.242305\n",
      "Cost after iteration 26400: 0.242249\n",
      "Cost after iteration 26500: 0.242193\n",
      "Cost after iteration 26600: 0.242137\n",
      "Cost after iteration 26700: 0.242083\n",
      "Cost after iteration 26800: 0.242028\n",
      "Cost after iteration 26900: 0.241974\n",
      "Cost after iteration 27000: 0.241920\n",
      "Cost after iteration 27100: 0.241867\n",
      "Cost after iteration 27200: 0.241814\n",
      "Cost after iteration 27300: 0.241762\n",
      "Cost after iteration 27400: 0.241710\n",
      "Cost after iteration 27500: 0.241659\n",
      "Cost after iteration 27600: 0.241608\n",
      "Cost after iteration 27700: 0.241557\n",
      "Cost after iteration 27800: 0.241507\n",
      "Cost after iteration 27900: 0.241457\n",
      "Cost after iteration 28000: 0.241407\n",
      "Cost after iteration 28100: 0.241358\n",
      "Cost after iteration 28200: 0.241309\n",
      "Cost after iteration 28300: 0.241261\n",
      "Cost after iteration 28400: 0.241213\n",
      "Cost after iteration 28500: 0.241165\n",
      "Cost after iteration 28600: 0.241118\n",
      "Cost after iteration 28700: 0.241071\n",
      "Cost after iteration 28800: 0.241025\n",
      "Cost after iteration 28900: 0.240979\n",
      "Cost after iteration 29000: 0.240933\n",
      "Cost after iteration 29100: 0.240887\n",
      "Cost after iteration 29200: 0.240842\n",
      "Cost after iteration 29300: 0.240797\n",
      "Cost after iteration 29400: 0.240753\n",
      "Cost after iteration 29500: 0.240709\n",
      "Cost after iteration 29600: 0.240665\n",
      "Cost after iteration 29700: 0.240621\n",
      "Cost after iteration 29800: 0.240578\n",
      "Cost after iteration 29900: 0.240536\n"
     ]
    }
   ],
   "source": [
    "last_params,last_grads,last_costs = optimize(W_,b_,X_train,y_train,30000,0.3,print_cost=True)"
   ]
  },
  {
   "cell_type": "markdown",
   "metadata": {},
   "source": [
    "###### Exercise\n",
    "The previous function will output the learned w and b. We are able to use w and b to predict the labels for a dataset X. Implement the predict() function.    \n",
    "Two steps to finish this task:   \n",
    "1. Calculate $\\hat{Y} = A = \\sigma(w^T*X+b)$   \n",
    "2. Convert the entries of a into 0 (if activation <= 0.5) or 1 (if activation > 0.5), stores the predictions in a vector Y_prediction. If you wish, you can use an if/else statement in a for loop (though there is also a way to vectorize this)."
   ]
  },
  {
   "cell_type": "code",
   "execution_count": 192,
   "metadata": {},
   "outputs": [],
   "source": [
    "def predict(w, b, X):\n",
    "    '''\n",
    "    Predict whether the label is 0 or 1 using learned logistic regression parameters (w, b)\n",
    "    \n",
    "    Arguments:\n",
    "    w -- weights\n",
    "    b -- bias \n",
    "    X -- data \n",
    "    \n",
    "    Returns:\n",
    "    Y_prediction -- a numpy array (vector) containing all predictions (0/1) for the examples in X\n",
    "    '''\n",
    "    m = X.shape[1]\n",
    "    Y_prediction = np.zeros((1,m))\n",
    "#     w = w.reshape(m,1)\n",
    "\n",
    "    z = np.dot(X,w) + b\n",
    "    A = sigmoid(z)\n",
    "\n",
    "    Y_prediction = copy.deepcopy(A)\n",
    "    Y_prediction[Y_prediction>0.5] =1\n",
    "    Y_prediction[Y_prediction<=0.5] = 0\n",
    "    Y_prediction = Y_prediction.squeeze()\n",
    "    assert(Y_prediction.shape[0] == X.shape[0])\n",
    "    \n",
    "    return Y_prediction\n",
    "\n",
    "def classify_accuracy(truth,pred):\n",
    "    accuracy = truth[pred==truth].shape[0]/truth.shape[0]\n",
    "    \n",
    "    return accuracy\n",
    "\n"
   ]
  },
  {
   "cell_type": "code",
   "execution_count": 193,
   "metadata": {},
   "outputs": [
    {
     "data": {
      "text/plain": [
       "(450, 64)"
      ]
     },
     "execution_count": 193,
     "metadata": {},
     "output_type": "execute_result"
    }
   ],
   "source": [
    "X_test.shape"
   ]
  },
  {
   "cell_type": "code",
   "execution_count": 194,
   "metadata": {},
   "outputs": [],
   "source": [
    "y_test_pred = predict(last_params['w'],last_params['b'],X_test)"
   ]
  },
  {
   "cell_type": "code",
   "execution_count": 195,
   "metadata": {},
   "outputs": [
    {
     "data": {
      "text/plain": [
       "0.8688888888888889"
      ]
     },
     "execution_count": 195,
     "metadata": {},
     "output_type": "execute_result"
    }
   ],
   "source": [
    "classify_accuracy(y_test,y_test_pred)"
   ]
  },
  {
   "cell_type": "code",
   "execution_count": 196,
   "metadata": {},
   "outputs": [],
   "source": [
    "y_train_pred = predict(last_params['w'],last_params['b'],X_train)"
   ]
  },
  {
   "cell_type": "code",
   "execution_count": 197,
   "metadata": {},
   "outputs": [
    {
     "data": {
      "text/plain": [
       "0.9168522642910171"
      ]
     },
     "execution_count": 197,
     "metadata": {},
     "output_type": "execute_result"
    }
   ],
   "source": [
    "classify_accuracy(y_train,y_train_pred)"
   ]
  },
  {
   "cell_type": "markdown",
   "metadata": {},
   "source": [
    "##### 5- Merge all functions into a model"
   ]
  },
  {
   "cell_type": "markdown",
   "metadata": {},
   "source": [
    "Congratulations !! You have finished all the necessary components for constructing a model. Now, Let's take the challenge to merge all the implemented function into one model."
   ]
  },
  {
   "cell_type": "code",
   "execution_count": 198,
   "metadata": {},
   "outputs": [],
   "source": [
    "def model(X_train, Y_train, X_test, Y_test, num_iterations, learning_rate,print_cost):\n",
    "    \"\"\"\n",
    "    Build the logistic regression model by calling all the functions you have implemented.\n",
    "    Arguments:\n",
    "    X_train - training set\n",
    "    Y_train - training label\n",
    "    X_test - test set\n",
    "    Y_test - test label\n",
    "    num_iteration - hyperparameter representing the number of iterations to optimize the parameters\n",
    "    learning_rate -- hyperparameter representing the learning rate used in the update rule of optimize()\n",
    "    print_cost -- Set to true to print the cost every 100 iterations\n",
    "    \n",
    "    Returns:\n",
    "    d - dictionary should contain following information w,b,training_accuracy, test_accuracy,cost\n",
    "    eg: d = {\"w\":w,\n",
    "             \"b\":b,\n",
    "             \"training_accuracy\": traing_accuracy,\n",
    "             \"test_accuracy\":test_accuracy,\n",
    "             \"cost\":cost}\n",
    "    \"\"\"\n",
    "    # step 1 initialize params W,b \n",
    "    dim = X_train.shape[1]\n",
    "    W_, b_ = initialize_parameters(dim)\n",
    "    \n",
    "    # step 2 propagate & optimize like forward propagation & backward propagation\n",
    "    last_params,last_grads,last_costs = optimize(W_,b_,X_train,Y_train,num_iterations,learning_rate,print_cost)\n",
    "    w = last_params['w']\n",
    "    b = last_params['b']\n",
    "    \n",
    "    # step 3 predict\n",
    "    Y_train_pred = predict(w, b, X_train)\n",
    "    Y_test_pred = predict(w, b, X_test)\n",
    "    \n",
    "    # step 4 compute accuracy\n",
    "    training_accuracy = classify_accuracy(Y_train,Y_train_pred)\n",
    "    test_accuracy = classify_accuracy(Y_test,Y_test_pred)\n",
    "    \n",
    "    # step 5 output\n",
    "    result = {\"w\":w,\n",
    "             \"b\":b,\n",
    "             \"training_accuracy\": training_accuracy,\n",
    "             \"test_accuracy\":test_accuracy,\n",
    "             \"cost\":last_costs\n",
    "    }\n",
    "    \n",
    "    return result\n",
    "    \n",
    "    \n",
    "    "
   ]
  },
  {
   "cell_type": "code",
   "execution_count": 214,
   "metadata": {},
   "outputs": [
    {
     "name": "stdout",
     "output_type": "stream",
     "text": [
      "Cost after iteration 0: 0.691207\n",
      "Cost after iteration 100: 0.625882\n",
      "Cost after iteration 200: 0.577466\n",
      "Cost after iteration 300: 0.540209\n",
      "Cost after iteration 400: 0.510790\n",
      "Cost after iteration 500: 0.487017\n",
      "Cost after iteration 600: 0.467418\n",
      "Cost after iteration 700: 0.450978\n",
      "Cost after iteration 800: 0.436983\n",
      "Cost after iteration 900: 0.424913\n",
      "Cost after iteration 1000: 0.414386\n",
      "Cost after iteration 1100: 0.405115\n",
      "Cost after iteration 1200: 0.396878\n",
      "Cost after iteration 1300: 0.389503\n",
      "Cost after iteration 1400: 0.382854\n",
      "Cost after iteration 1500: 0.376824\n",
      "Cost after iteration 1600: 0.371324\n",
      "Cost after iteration 1700: 0.366282\n",
      "Cost after iteration 1800: 0.361639\n",
      "Cost after iteration 1900: 0.357346\n",
      "Cost after iteration 2000: 0.353362\n",
      "Cost after iteration 2100: 0.349652\n",
      "Cost after iteration 2200: 0.346185\n",
      "Cost after iteration 2300: 0.342937\n",
      "Cost after iteration 2400: 0.339886\n",
      "Cost after iteration 2500: 0.337012\n",
      "Cost after iteration 2600: 0.334299\n",
      "Cost after iteration 2700: 0.331732\n",
      "Cost after iteration 2800: 0.329299\n",
      "Cost after iteration 2900: 0.326989\n",
      "Cost after iteration 3000: 0.324791\n",
      "Cost after iteration 3100: 0.322697\n",
      "Cost after iteration 3200: 0.320699\n",
      "Cost after iteration 3300: 0.318789\n",
      "Cost after iteration 3400: 0.316962\n",
      "Cost after iteration 3500: 0.315211\n",
      "Cost after iteration 3600: 0.313532\n",
      "Cost after iteration 3700: 0.311919\n",
      "Cost after iteration 3800: 0.310368\n",
      "Cost after iteration 3900: 0.308876\n",
      "Cost after iteration 4000: 0.307439\n",
      "Cost after iteration 4100: 0.306053\n",
      "Cost after iteration 4200: 0.304716\n",
      "Cost after iteration 4300: 0.303425\n",
      "Cost after iteration 4400: 0.302177\n",
      "Cost after iteration 4500: 0.300970\n",
      "Cost after iteration 4600: 0.299802\n",
      "Cost after iteration 4700: 0.298670\n",
      "Cost after iteration 4800: 0.297574\n",
      "Cost after iteration 4900: 0.296511\n",
      "Cost after iteration 5000: 0.295479\n",
      "Cost after iteration 5100: 0.294477\n",
      "Cost after iteration 5200: 0.293504\n",
      "Cost after iteration 5300: 0.292559\n",
      "Cost after iteration 5400: 0.291639\n",
      "Cost after iteration 5500: 0.290745\n",
      "Cost after iteration 5600: 0.289875\n",
      "Cost after iteration 5700: 0.289027\n",
      "Cost after iteration 5800: 0.288201\n",
      "Cost after iteration 5900: 0.287397\n",
      "Cost after iteration 6000: 0.286612\n",
      "Cost after iteration 6100: 0.285847\n",
      "Cost after iteration 6200: 0.285101\n",
      "Cost after iteration 6300: 0.284373\n",
      "Cost after iteration 6400: 0.283662\n",
      "Cost after iteration 6500: 0.282967\n",
      "Cost after iteration 6600: 0.282289\n",
      "Cost after iteration 6700: 0.281626\n",
      "Cost after iteration 6800: 0.280978\n",
      "Cost after iteration 6900: 0.280344\n",
      "Cost after iteration 7000: 0.279724\n",
      "Cost after iteration 7100: 0.279118\n",
      "Cost after iteration 7200: 0.278525\n",
      "Cost after iteration 7300: 0.277944\n",
      "Cost after iteration 7400: 0.277375\n",
      "Cost after iteration 7500: 0.276818\n",
      "Cost after iteration 7600: 0.276273\n",
      "Cost after iteration 7700: 0.275739\n",
      "Cost after iteration 7800: 0.275215\n",
      "Cost after iteration 7900: 0.274701\n",
      "Cost after iteration 8000: 0.274198\n",
      "Cost after iteration 8100: 0.273705\n",
      "Cost after iteration 8200: 0.273221\n",
      "Cost after iteration 8300: 0.272746\n",
      "Cost after iteration 8400: 0.272280\n",
      "Cost after iteration 8500: 0.271823\n",
      "Cost after iteration 8600: 0.271374\n",
      "Cost after iteration 8700: 0.270934\n",
      "Cost after iteration 8800: 0.270501\n",
      "Cost after iteration 8900: 0.270077\n",
      "Cost after iteration 9000: 0.269659\n",
      "Cost after iteration 9100: 0.269250\n",
      "Cost after iteration 9200: 0.268847\n",
      "Cost after iteration 9300: 0.268452\n",
      "Cost after iteration 9400: 0.268063\n",
      "Cost after iteration 9500: 0.267681\n",
      "Cost after iteration 9600: 0.267305\n",
      "Cost after iteration 9700: 0.266936\n",
      "Cost after iteration 9800: 0.266573\n",
      "Cost after iteration 9900: 0.266216\n",
      "Cost after iteration 10000: 0.265864\n",
      "Cost after iteration 10100: 0.265519\n",
      "Cost after iteration 10200: 0.265179\n",
      "Cost after iteration 10300: 0.264844\n",
      "Cost after iteration 10400: 0.264515\n",
      "Cost after iteration 10500: 0.264191\n",
      "Cost after iteration 10600: 0.263873\n",
      "Cost after iteration 10700: 0.263559\n",
      "Cost after iteration 10800: 0.263250\n",
      "Cost after iteration 10900: 0.262945\n",
      "Cost after iteration 11000: 0.262646\n",
      "Cost after iteration 11100: 0.262351\n",
      "Cost after iteration 11200: 0.262060\n",
      "Cost after iteration 11300: 0.261774\n",
      "Cost after iteration 11400: 0.261492\n",
      "Cost after iteration 11500: 0.261214\n",
      "Cost after iteration 11600: 0.260941\n",
      "Cost after iteration 11700: 0.260671\n",
      "Cost after iteration 11800: 0.260405\n",
      "Cost after iteration 11900: 0.260143\n",
      "Cost after iteration 12000: 0.259885\n",
      "Cost after iteration 12100: 0.259631\n",
      "Cost after iteration 12200: 0.259380\n",
      "Cost after iteration 12300: 0.259132\n",
      "Cost after iteration 12400: 0.258889\n",
      "Cost after iteration 12500: 0.258648\n",
      "Cost after iteration 12600: 0.258411\n",
      "Cost after iteration 12700: 0.258177\n",
      "Cost after iteration 12800: 0.257946\n",
      "Cost after iteration 12900: 0.257719\n",
      "Cost after iteration 13000: 0.257494\n",
      "Cost after iteration 13100: 0.257273\n",
      "Cost after iteration 13200: 0.257054\n",
      "Cost after iteration 13300: 0.256839\n",
      "Cost after iteration 13400: 0.256626\n",
      "Cost after iteration 13500: 0.256416\n",
      "Cost after iteration 13600: 0.256209\n",
      "Cost after iteration 13700: 0.256005\n",
      "Cost after iteration 13800: 0.255803\n",
      "Cost after iteration 13900: 0.255603\n",
      "Cost after iteration 14000: 0.255407\n",
      "Cost after iteration 14100: 0.255213\n",
      "Cost after iteration 14200: 0.255021\n",
      "Cost after iteration 14300: 0.254832\n",
      "Cost after iteration 14400: 0.254645\n",
      "Cost after iteration 14500: 0.254460\n",
      "Cost after iteration 14600: 0.254278\n",
      "Cost after iteration 14700: 0.254098\n",
      "Cost after iteration 14800: 0.253920\n",
      "Cost after iteration 14900: 0.253745\n",
      "Cost after iteration 15000: 0.253571\n",
      "Cost after iteration 15100: 0.253400\n",
      "Cost after iteration 15200: 0.253231\n",
      "Cost after iteration 15300: 0.253064\n",
      "Cost after iteration 15400: 0.252899\n",
      "Cost after iteration 15500: 0.252735\n",
      "Cost after iteration 15600: 0.252574\n",
      "Cost after iteration 15700: 0.252415\n",
      "Cost after iteration 15800: 0.252257\n",
      "Cost after iteration 15900: 0.252102\n",
      "Cost after iteration 16000: 0.251948\n",
      "Cost after iteration 16100: 0.251796\n",
      "Cost after iteration 16200: 0.251646\n",
      "Cost after iteration 16300: 0.251497\n",
      "Cost after iteration 16400: 0.251350\n",
      "Cost after iteration 16500: 0.251205\n",
      "Cost after iteration 16600: 0.251062\n",
      "Cost after iteration 16700: 0.250920\n",
      "Cost after iteration 16800: 0.250779\n",
      "Cost after iteration 16900: 0.250641\n",
      "Cost after iteration 17000: 0.250504\n",
      "Cost after iteration 17100: 0.250368\n",
      "Cost after iteration 17200: 0.250234\n",
      "Cost after iteration 17300: 0.250101\n",
      "Cost after iteration 17400: 0.249970\n",
      "Cost after iteration 17500: 0.249840\n",
      "Cost after iteration 17600: 0.249712\n",
      "Cost after iteration 17700: 0.249585\n",
      "Cost after iteration 17800: 0.249460\n",
      "Cost after iteration 17900: 0.249335\n",
      "Cost after iteration 18000: 0.249213\n",
      "Cost after iteration 18100: 0.249091\n",
      "Cost after iteration 18200: 0.248971\n",
      "Cost after iteration 18300: 0.248852\n",
      "Cost after iteration 18400: 0.248734\n",
      "Cost after iteration 18500: 0.248618\n",
      "Cost after iteration 18600: 0.248503\n",
      "Cost after iteration 18700: 0.248389\n",
      "Cost after iteration 18800: 0.248276\n",
      "Cost after iteration 18900: 0.248164\n",
      "Cost after iteration 19000: 0.248054\n",
      "Cost after iteration 19100: 0.247944\n",
      "Cost after iteration 19200: 0.247836\n",
      "Cost after iteration 19300: 0.247729\n",
      "Cost after iteration 19400: 0.247623\n",
      "Cost after iteration 19500: 0.247518\n",
      "Cost after iteration 19600: 0.247414\n",
      "Cost after iteration 19700: 0.247311\n",
      "Cost after iteration 19800: 0.247209\n",
      "Cost after iteration 19900: 0.247109\n",
      "Cost after iteration 20000: 0.247009\n",
      "Cost after iteration 20100: 0.246910\n",
      "Cost after iteration 20200: 0.246812\n",
      "Cost after iteration 20300: 0.246715\n",
      "Cost after iteration 20400: 0.246620\n",
      "Cost after iteration 20500: 0.246525\n",
      "Cost after iteration 20600: 0.246431\n",
      "Cost after iteration 20700: 0.246338\n",
      "Cost after iteration 20800: 0.246245\n",
      "Cost after iteration 20900: 0.246154\n",
      "Cost after iteration 21000: 0.246064\n",
      "Cost after iteration 21100: 0.245974\n",
      "Cost after iteration 21200: 0.245885\n",
      "Cost after iteration 21300: 0.245798\n",
      "Cost after iteration 21400: 0.245711\n",
      "Cost after iteration 21500: 0.245624\n",
      "Cost after iteration 21600: 0.245539\n",
      "Cost after iteration 21700: 0.245454\n",
      "Cost after iteration 21800: 0.245371\n",
      "Cost after iteration 21900: 0.245288\n",
      "Cost after iteration 22000: 0.245206\n",
      "Cost after iteration 22100: 0.245124\n",
      "Cost after iteration 22200: 0.245043\n",
      "Cost after iteration 22300: 0.244964\n",
      "Cost after iteration 22400: 0.244884\n",
      "Cost after iteration 22500: 0.244806\n",
      "Cost after iteration 22600: 0.244728\n",
      "Cost after iteration 22700: 0.244651\n",
      "Cost after iteration 22800: 0.244575\n",
      "Cost after iteration 22900: 0.244499\n",
      "Cost after iteration 23000: 0.244424\n",
      "Cost after iteration 23100: 0.244350\n",
      "Cost after iteration 23200: 0.244276\n",
      "Cost after iteration 23300: 0.244203\n",
      "Cost after iteration 23400: 0.244131\n",
      "Cost after iteration 23500: 0.244059\n",
      "Cost after iteration 23600: 0.243988\n",
      "Cost after iteration 23700: 0.243918\n",
      "Cost after iteration 23800: 0.243848\n",
      "Cost after iteration 23900: 0.243779\n",
      "Cost after iteration 24000: 0.243710\n",
      "Cost after iteration 24100: 0.243642\n",
      "Cost after iteration 24200: 0.243575\n",
      "Cost after iteration 24300: 0.243508\n",
      "Cost after iteration 24400: 0.243442\n",
      "Cost after iteration 24500: 0.243377\n",
      "Cost after iteration 24600: 0.243311\n",
      "Cost after iteration 24700: 0.243247\n",
      "Cost after iteration 24800: 0.243183\n",
      "Cost after iteration 24900: 0.243120\n",
      "Cost after iteration 25000: 0.243057\n",
      "Cost after iteration 25100: 0.242994\n",
      "Cost after iteration 25200: 0.242933\n",
      "Cost after iteration 25300: 0.242871\n",
      "Cost after iteration 25400: 0.242811\n",
      "Cost after iteration 25500: 0.242750\n",
      "Cost after iteration 25600: 0.242691\n",
      "Cost after iteration 25700: 0.242631\n",
      "Cost after iteration 25800: 0.242573\n",
      "Cost after iteration 25900: 0.242514\n",
      "Cost after iteration 26000: 0.242457\n",
      "Cost after iteration 26100: 0.242399\n",
      "Cost after iteration 26200: 0.242342\n",
      "Cost after iteration 26300: 0.242286\n",
      "Cost after iteration 26400: 0.242230\n",
      "Cost after iteration 26500: 0.242175\n",
      "Cost after iteration 26600: 0.242120\n",
      "Cost after iteration 26700: 0.242065\n",
      "Cost after iteration 26800: 0.242011\n",
      "Cost after iteration 26900: 0.241957\n",
      "Cost after iteration 27000: 0.241904\n",
      "Cost after iteration 27100: 0.241851\n",
      "Cost after iteration 27200: 0.241799\n",
      "Cost after iteration 27300: 0.241747\n",
      "Cost after iteration 27400: 0.241696\n",
      "Cost after iteration 27500: 0.241644\n",
      "Cost after iteration 27600: 0.241594\n",
      "Cost after iteration 27700: 0.241543\n",
      "Cost after iteration 27800: 0.241493\n",
      "Cost after iteration 27900: 0.241444\n",
      "Cost after iteration 28000: 0.241395\n",
      "Cost after iteration 28100: 0.241346\n",
      "Cost after iteration 28200: 0.241298\n",
      "Cost after iteration 28300: 0.241250\n",
      "Cost after iteration 28400: 0.241202\n",
      "Cost after iteration 28500: 0.241155\n",
      "Cost after iteration 28600: 0.241108\n",
      "Cost after iteration 28700: 0.241061\n",
      "Cost after iteration 28800: 0.241015\n",
      "Cost after iteration 28900: 0.240969\n",
      "Cost after iteration 29000: 0.240924\n",
      "Cost after iteration 29100: 0.240879\n",
      "Cost after iteration 29200: 0.240834\n",
      "Cost after iteration 29300: 0.240789\n",
      "Cost after iteration 29400: 0.240745\n",
      "Cost after iteration 29500: 0.240701\n",
      "Cost after iteration 29600: 0.240658\n",
      "Cost after iteration 29700: 0.240615\n",
      "Cost after iteration 29800: 0.240572\n",
      "Cost after iteration 29900: 0.240529\n"
     ]
    }
   ],
   "source": [
    "get_pred = model(X_train, y_train, X_test, y_test, 30000, 0.3,True)"
   ]
  },
  {
   "cell_type": "code",
   "execution_count": 200,
   "metadata": {},
   "outputs": [
    {
     "data": {
      "text/plain": [
       "dict_keys(['w', 'b', 'training_accuracy', 'test_accuracy', 'cost'])"
      ]
     },
     "execution_count": 200,
     "metadata": {},
     "output_type": "execute_result"
    }
   ],
   "source": [
    "get_pred.keys()"
   ]
  },
  {
   "cell_type": "code",
   "execution_count": 201,
   "metadata": {},
   "outputs": [
    {
     "name": "stdout",
     "output_type": "stream",
     "text": [
      "training_accuracy: 0.9168522642910171\n",
      "test_accuracy: 0.8688888888888889\n"
     ]
    }
   ],
   "source": [
    "print(\"training_accuracy: {}\".format(get_pred['training_accuracy']))\n",
    "print(\"test_accuracy: {}\".format(get_pred['test_accuracy']))"
   ]
  },
  {
   "cell_type": "markdown",
   "metadata": {},
   "source": [
    "### 4.选做题"
   ]
  },
  {
   "cell_type": "markdown",
   "metadata": {},
   "source": [
    "Congratulations on building your first logistic regression model. It is your time to analyze it further."
   ]
  },
  {
   "cell_type": "markdown",
   "metadata": {},
   "source": [
    "##### 4.1 Observe the effect of learning rate on the leraning process.   \n",
    "Hits: plot the learning curve with different learning rate"
   ]
  },
  {
   "cell_type": "code",
   "execution_count": 202,
   "metadata": {},
   "outputs": [],
   "source": [
    "dic_cost = {}\n",
    "for lr_i in [0.3, 0.1, 0.05, 0.01, 0.005, 0.001]:\n",
    "    get_pred = model(X_train, y_train, X_test, y_test, 50000, lr_i,False)\n",
    "    dic_cost[str(lr_i)] = get_pred['cost']\n"
   ]
  },
  {
   "cell_type": "code",
   "execution_count": 203,
   "metadata": {},
   "outputs": [
    {
     "data": {
      "image/png": "[encoded data removed]",
      "text/plain": [
       "<Figure size 720x432 with 1 Axes>"
      ]
     },
     "metadata": {
      "needs_background": "light"
     },
     "output_type": "display_data"
    }
   ],
   "source": [
    "plt.figure(figsize=(10,6))\n",
    "for cost_i in dic_cost:\n",
    "    plt.plot(dic_cost[cost_i],label=cost_i)\n",
    "    plt.legend(loc='upper right')\n",
    "plt.title('learning_curve')\n",
    "sns.despine()\n"
   ]
  },
  {
   "cell_type": "markdown",
   "metadata": {},
   "source": [
    "总结：学习率过大会造成训练速度过快，以至于无法收敛，而学习率过小则造成训练速度慢，消耗过多时间和空间"
   ]
  },
  {
   "cell_type": "markdown",
   "metadata": {},
   "source": [
    "##### 4.2 Observe the effect of iteration_num on the test accuracy."
   ]
  },
  {
   "cell_type": "code",
   "execution_count": 216,
   "metadata": {},
   "outputs": [
    {
     "name": "stdout",
     "output_type": "stream",
     "text": [
      "iteration_num :1000 ,test_accuracy :0.6688888888888889\n",
      "\n",
      "iteration_num :5000 ,test_accuracy :0.7822222222222223\n",
      "\n",
      "iteration_num :10000 ,test_accuracy :0.8333333333333334\n",
      "\n",
      "iteration_num :30000 ,test_accuracy :0.8644444444444445\n",
      "\n",
      "iteration_num :50000 ,test_accuracy :0.8555555555555555\n",
      "\n"
     ]
    }
   ],
   "source": [
    "dic_cost = {}\n",
    "for in_i in [1000,5000,10000,30000,50000]:\n",
    "    get_pred = model(X_train, y_train, X_test, y_test, in_i, 0.01,False)\n",
    "    dic_cost[str(in_i)] = get_pred['cost']\n",
    "    print('iteration_num :{} ,test_accuracy :{}\\n'.format(str(in_i),get_pred['test_accuracy']))"
   ]
  },
  {
   "cell_type": "code",
   "execution_count": 212,
   "metadata": {},
   "outputs": [
    {
     "data": {
      "text/plain": [
       "(-10, 120)"
      ]
     },
     "execution_count": 212,
     "metadata": {},
     "output_type": "execute_result"
    },
    {
     "data": {
      "image/png": "[encoded data removed]",
      "text/plain": [
       "<Figure size 720x432 with 1 Axes>"
      ]
     },
     "metadata": {
      "needs_background": "light"
     },
     "output_type": "display_data"
    }
   ],
   "source": [
    "plt.figure(figsize=(10,6))\n",
    "for cost_i in dic_cost:\n",
    "    plt.plot(dic_cost[cost_i],label=cost_i)\n",
    "    plt.legend(loc='upper right')\n",
    "plt.title('iteration_num_curve')\n",
    "sns.despine()\n",
    "plt.xlim([-10,120])"
   ]
  },
  {
   "cell_type": "markdown",
   "metadata": {},
   "source": [
    "总结：迭代次数过少会达不到最优解,迭代次数过大会造成资源浪费"
   ]
  },
  {
   "cell_type": "markdown",
   "metadata": {},
   "source": [
    "# Challenge ! ! !\n",
    "\n",
    "The original data have images labeled 0,1,2,3,4,5,6,7,8,9. In our logistic model, we only detect if the digit in the image is larger or smaller than 5. Now, Let's go for a more challenging problem. Try to use softmax function to build a model to recognize which digit (0,1,2,3,4,5,6,7,8,9) is in the image."
   ]
  },
  {
   "cell_type": "code",
   "execution_count": 206,
   "metadata": {},
   "outputs": [],
   "source": [
    "from sklearn import datasets\n",
    "import matplotlib.pyplot as plt\n",
    "import seaborn as sns\n",
    "from sklearn.model_selection import train_test_split\n",
    "import copy\n",
    "%matplotlib inline"
   ]
  },
  {
   "cell_type": "code",
   "execution_count": 207,
   "metadata": {},
   "outputs": [
    {
     "data": {
      "image/png": "[encoded data removed]",
      "text/plain": [
       "<Figure size 432x288 with 10 Axes>"
      ]
     },
     "metadata": {},
     "output_type": "display_data"
    }
   ],
   "source": [
    "# Loading the data \n",
    "digits = datasets.load_digits()\n",
    "\n",
    "# Vilizating the data\n",
    "for i in range(1,11):\n",
    "    plt.subplot(2,5,i)\n",
    "    plt.imshow(digits.data[i-1].reshape([8,8]),cmap=plt.cm.gray_r)\n",
    "    plt.text(3,10,str(digits.target[i-1]))\n",
    "    plt.xticks([])\n",
    "    plt.yticks([])\n",
    "plt.show()"
   ]
  },
  {
   "cell_type": "code",
   "execution_count": 9,
   "metadata": {},
   "outputs": [
    {
     "name": "stdout",
     "output_type": "stream",
     "text": [
      "(1347, 64)\n",
      "(450, 64)\n",
      "(1347,)\n",
      "(450,)\n"
     ]
    },
    {
     "data": {
      "text/plain": [
       "{0, 1, 2, 3, 4, 5, 6, 7, 8, 9}"
      ]
     },
     "execution_count": 9,
     "metadata": {},
     "output_type": "execute_result"
    }
   ],
   "source": [
    "# Split the data into training set and test set \n",
    "X_train, X_test, y_train, y_test = train_test_split(digits.data, digits.target, test_size=0.25)\n",
    "\n",
    "print(X_train.shape)\n",
    "print(X_test.shape)\n",
    "print(y_train.shape)\n",
    "print(y_test.shape)\n",
    "set(y_train)"
   ]
  },
  {
   "cell_type": "markdown",
   "metadata": {},
   "source": [
    "## define softmax"
   ]
  },
  {
   "cell_type": "markdown",
   "metadata": {},
   "source": [
    "For one example $x^{(i)}$:   \n",
    " $$ z^{(i)} = w^T * x^{(i)} +b $$   \n",
    " $$ a^{(i)} = sigmoid(z^{(i)}) = \\frac{e^{z^{(i)}}}{\\sum e^{z^{(j)}}} $$\n",
    "\n",
    " $$L(a^{(i)},y^{(i)}) = -y^{(i)} + log\\sum_j e^{a^{(j)}}$$\n",
    "\n",
    "\n"
   ]
  },
  {
   "cell_type": "code",
   "execution_count": 12,
   "metadata": {},
   "outputs": [],
   "source": [
    "def softmax(Z):\n",
    "    return np.exp(Z) / np.sum(np.exp(Z))\n",
    "\n",
    "\n",
    "def initialize_parameters(dim):\n",
    "    '''\n",
    "    Argument: dim -- size of the w vector\n",
    "    \n",
    "    Returns:\n",
    "    w -- initialized vector of shape (dim,1)\n",
    "    b -- initializaed scalar\n",
    "    '''\n",
    "    \n",
    "    w = np.random.randn(dim,1)\n",
    "    b = np.random.randint(1)\n",
    "    \n",
    "    assert(w.shape == (dim,1))\n",
    "    assert(isinstance(b,float) or isinstance(b,int))\n",
    "    \n",
    "    return w,b\n",
    "\n",
    "def propagate(w,b,X,Y):\n",
    "    '''\n",
    "    Implement the cost function and its gradient for the propagation\n",
    "    \n",
    "    Arguments:\n",
    "    w - weights\n",
    "    b - bias\n",
    "    X - data\n",
    "    Y - ground truth\n",
    "    '''\n",
    "    m = X.shape[1]\n",
    "    z = np.dot(X,w) + b\n",
    "    A = softmax(z)\n",
    "    # 使用softmax作为激活函数\n",
    "    \n",
    "    Y_r = Y.reshape(-1,1) \n",
    "    \n",
    "    cost = -Y_r + np.log1p(np.sum(np.exp(A))) \n",
    "    # 这里改为softmax的loss function\n",
    "    dw = np.dot(X.T,(A-Y_r)) / m\n",
    "    db = np.sum(A-Y_r) / m\n",
    "    \n",
    "    \n",
    "    assert(dw.shape == w.shape)\n",
    "    \n",
    "    assert(db.dtype == float)\n",
    "    cost = np.squeeze(cost)\n",
    "    assert(cost.shape == ())\n",
    "    \n",
    "    grads = {'dw':dw,\n",
    "             'db':db}\n",
    "    return grads, cost"
   ]
  },
  {
   "cell_type": "markdown",
   "metadata": {},
   "source": [
    "# Congratulations ! You have completed assigment 4. "
   ]
  },
  {
   "cell_type": "code",
   "execution_count": null,
   "metadata": {},
   "outputs": [],
   "source": []
  }
 ],
 "metadata": {
  "kernelspec": {
   "display_name": "Python 3",
   "language": "python",
   "name": "python3"
  },
  "language_info": {
   "codemirror_mode": {
    "name": "ipython",
    "version": 3
   },
   "file_extension": ".py",
   "mimetype": "text/x-python",
   "name": "python",
   "nbconvert_exporter": "python",
   "pygments_lexer": "ipython3",
   "version": "3.7.2"
  }
 },
 "nbformat": 4,
 "nbformat_minor": 2
}
